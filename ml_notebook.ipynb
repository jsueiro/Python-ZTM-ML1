{
 "cells": [
  {
   "cell_type": "code",
   "execution_count": 3,
   "metadata": {},
   "outputs": [],
   "source": [
    "from sklearn.datasets import load_iris\n",
    "iris = load_iris()"
   ]
  },
  {
   "cell_type": "code",
   "execution_count": 9,
   "metadata": {},
   "outputs": [
    {
     "data": {
      "text/plain": [
       "numpy.ndarray"
      ]
     },
     "execution_count": 9,
     "metadata": {},
     "output_type": "execute_result"
    }
   ],
   "source": [
    "#X means input\n",
    "#Y means output\n",
    "X = iris.data # each item in the list is a feature\n",
    "y = iris.target \n",
    "\n",
    "feature_names = iris.feature_names\n",
    "target_names = iris.target_names\n",
    "\n",
    "# type(x) is a numpy multidimensional array\n",
    "\n",
    "\n",
    "\n",
    "#create a function that takes X and outputs Y "
   ]
  },
  {
   "cell_type": "code",
   "execution_count": 27,
   "metadata": {},
   "outputs": [],
   "source": [
    "from sklearn.model_selection import train_test_split # randomly split between train and test\n",
    "\n",
    "X_train, X_test, y_train, y_test = train_test_split(X, y, test_size=0.4) #size is % \n",
    "\n",
    "# return array dimensions\n",
    "# print(X_train.shape)\n",
    "# print(X_test.shape)"
   ]
  },
  {
   "cell_type": "code",
   "execution_count": 32,
   "metadata": {},
   "outputs": [],
   "source": [
    "from sklearn.neighbors import KNeighborsClassifier\n",
    "#create model\n",
    "knn = KNeighborsClassifier(n_neighbors=3) # how many classifications? \n",
    "knn.fit(X_train, y_train)\n",
    "\n",
    "#check output, predict results with used sets\n",
    "y_pred = knn.predict(X_test)"
   ]
  },
  {
   "cell_type": "code",
   "execution_count": 42,
   "metadata": {},
   "outputs": [
    {
     "name": "stdout",
     "output_type": "stream",
     "text": [
      "0.9833333333333333\n"
     ]
    }
   ],
   "source": [
    "from sklearn import metrics\n",
    "\n",
    "print(metrics.accuracy_score(y_test, y_pred)) #returns probability of being correct"
   ]
  },
  {
   "cell_type": "code",
   "execution_count": 39,
   "metadata": {},
   "outputs": [
    {
     "name": "stdout",
     "output_type": "stream",
     "text": [
      "0.9833333333333333\n"
     ]
    }
   ],
   "source": [
    "from sklearn.tree import DecisionTreeClassifier\n",
    "#create model\n",
    "knn = DecisionTreeClassifier()  \n",
    "knn.fit(X_train, y_train)\n",
    "\n",
    "#check output, predict results with used sets\n",
    "y_pred = knn.predict(X_test)\n",
    "\n",
    "from sklearn import metrics\n",
    "\n",
    "print(metrics.accuracy_score(y_test, y_pred)) #returns probability of being correct"
   ]
  },
  {
   "cell_type": "code",
   "execution_count": 48,
   "metadata": {},
   "outputs": [
    {
     "name": "stdout",
     "output_type": "stream",
     "text": [
      "predictions:  ['virginica', 'virginica']\n"
     ]
    }
   ],
   "source": [
    "sample = [[3,1,5,2], [2,3,5,1]] # I can pass another data\n",
    "predictions = knn.predict(sample)\n",
    "pred_species = [iris.target_names[p] for p in predictions]\n",
    "\n",
    "print('predictions: ', pred_species)"
   ]
  },
  {
   "cell_type": "code",
   "execution_count": 52,
   "metadata": {},
   "outputs": [],
   "source": [
    "# model persistence\n",
    "import joblib\n",
    "model = joblib.dump(knn, 'mlbrain.joblib')\n"
   ]
  },
  {
   "cell_type": "code",
   "execution_count": 54,
   "metadata": {},
   "outputs": [
    {
     "name": "stdout",
     "output_type": "stream",
     "text": [
      "predictions:  ['virginica', 'virginica']\n"
     ]
    }
   ],
   "source": [
    "#instead of retraining the model all the time, I can now use model as packaged\n",
    "\n",
    "model = joblib.load('mlbrain.joblib')\n",
    "model.predict(X_test)\n",
    "\n",
    "sample = [[3,1,5,2], [2,3,5,1]] # I can pass another data\n",
    "predictions = model.predict(sample)\n",
    "pred_species = [iris.target_names[p] for p in predictions]\n",
    "\n",
    "print('predictions: ', pred_species)"
   ]
  }
 ],
 "metadata": {
  "interpreter": {
   "hash": "4d455a8ff10577528550c4f3b84558af80991bcaff4db549cdd289db54eb7984"
  },
  "kernelspec": {
   "display_name": "Python 3.10.2 64-bit",
   "language": "python",
   "name": "python3"
  },
  "language_info": {
   "codemirror_mode": {
    "name": "ipython",
    "version": 3
   },
   "file_extension": ".py",
   "mimetype": "text/x-python",
   "name": "python",
   "nbconvert_exporter": "python",
   "pygments_lexer": "ipython3",
   "version": "3.10.2"
  },
  "orig_nbformat": 4
 },
 "nbformat": 4,
 "nbformat_minor": 2
}
